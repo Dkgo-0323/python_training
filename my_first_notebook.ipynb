{
 "cells": [
  {
   "cell_type": "markdown",
   "id": "eec4fd52",
   "metadata": {},
   "source": [
    "**这段文字将被加粗**\n",
    "这段文字没有被加粗"
   ]
  },
  {
   "cell_type": "markdown",
   "id": "a52f80b9",
   "metadata": {},
   "source": [
    "*单引号表示斜体*"
   ]
  },
  {
   "cell_type": "markdown",
   "id": "0290d2b2",
   "metadata": {},
   "source": [
    "~波浪线是划掉~"
   ]
  },
  {
   "cell_type": "markdown",
   "id": "db2853ba",
   "metadata": {},
   "source": [
    "**这段文字将被*加粗***"
   ]
  },
  {
   "cell_type": "markdown",
   "id": "d19c5f5e",
   "metadata": {},
   "source": [
    ">样例引用文字"
   ]
  },
  {
   "cell_type": "markdown",
   "id": "17fd17ad",
   "metadata": {},
   "source": [
    "1. sample 1\n",
    "2. sample 2\n",
    "3. sample 3"
   ]
  },
  {
   "cell_type": "markdown",
   "id": "febdbc20",
   "metadata": {},
   "source": [
    "- line 1\n",
    "- line 2\n",
    "- line 3\n",
    "\n",
    "* line 4\n",
    "* line 5"
   ]
  },
  {
   "cell_type": "markdown",
   "id": "b87bc5a2",
   "metadata": {},
   "source": [
    "Welcome to our city [^定边]"
   ]
  },
  {
   "cell_type": "markdown",
   "id": "68a8a507",
   "metadata": {},
   "source": [
    "创建脚注格式类似这样 [^RUNOOB]。\n",
    "\n",
    "[^RUNOOB]: 菜鸟教程 -- 学的不仅是技术，更是梦想！！！"
   ]
  },
  {
   "cell_type": "markdown",
   "id": "7d3172e8",
   "metadata": {},
   "source": [
    "| 左对齐 | 右对齐 | 居中对齐 |\n",
    "| :-----| ----: | :----: |\n",
    "| 单元格 | 单元格 | 单元格 |\n",
    "| 单元格 | 单元格 | 单元格 |"
   ]
  },
  {
   "cell_type": "code",
   "execution_count": 85,
   "id": "b163abe7",
   "metadata": {},
   "outputs": [
    {
     "data": {
      "text/plain": [
       "tuple"
      ]
     },
     "execution_count": 85,
     "metadata": {},
     "output_type": "execute_result"
    }
   ],
   "source": [
    "tup2 = 2,12.0,5+3j\n",
    "a,b,c = tup2\n",
    "type(tup2)"
   ]
  },
  {
   "cell_type": "code",
   "execution_count": 86,
   "id": "3d2108fc",
   "metadata": {},
   "outputs": [
    {
     "name": "stdout",
     "output_type": "stream",
     "text": [
      "2 12.0 (5+3j)\n"
     ]
    }
   ],
   "source": [
    "print(a,b,c)"
   ]
  },
  {
   "cell_type": "code",
   "execution_count": 4,
   "id": "1e778d91",
   "metadata": {},
   "outputs": [
    {
     "data": {
      "text/plain": [
       "2"
      ]
     },
     "execution_count": 4,
     "metadata": {},
     "output_type": "execute_result"
    }
   ],
   "source": [
    "a"
   ]
  },
  {
   "cell_type": "code",
   "execution_count": 5,
   "id": "07cd31d0",
   "metadata": {},
   "outputs": [
    {
     "data": {
      "text/plain": [
       "12.0"
      ]
     },
     "execution_count": 5,
     "metadata": {},
     "output_type": "execute_result"
    }
   ],
   "source": [
    "b"
   ]
  },
  {
   "cell_type": "code",
   "execution_count": 6,
   "id": "c0e70afd",
   "metadata": {},
   "outputs": [
    {
     "data": {
      "text/plain": [
       "int"
      ]
     },
     "execution_count": 6,
     "metadata": {},
     "output_type": "execute_result"
    }
   ],
   "source": [
    "type(a)"
   ]
  },
  {
   "cell_type": "code",
   "execution_count": 7,
   "id": "63a6771b",
   "metadata": {},
   "outputs": [
    {
     "data": {
      "text/plain": [
       "float"
      ]
     },
     "execution_count": 7,
     "metadata": {},
     "output_type": "execute_result"
    }
   ],
   "source": [
    "type(b)"
   ]
  },
  {
   "cell_type": "code",
   "execution_count": 8,
   "id": "5e974ca2",
   "metadata": {},
   "outputs": [
    {
     "data": {
      "text/plain": [
       "3"
      ]
     },
     "execution_count": 8,
     "metadata": {},
     "output_type": "execute_result"
    }
   ],
   "source": [
    "True + 2"
   ]
  },
  {
   "cell_type": "code",
   "execution_count": 13,
   "id": "a02d3d3c",
   "metadata": {},
   "outputs": [
    {
     "data": {
      "text/plain": [
       "100"
      ]
     },
     "execution_count": 13,
     "metadata": {},
     "output_type": "execute_result"
    }
   ],
   "source": [
    "x = 100\n",
    "y = 200\n",
    "x or y"
   ]
  },
  {
   "cell_type": "code",
   "execution_count": 14,
   "id": "18b2c771",
   "metadata": {},
   "outputs": [
    {
     "data": {
      "text/plain": [
       "200"
      ]
     },
     "execution_count": 14,
     "metadata": {},
     "output_type": "execute_result"
    }
   ],
   "source": [
    "x = False\n",
    "y = 200\n",
    "x or y"
   ]
  },
  {
   "cell_type": "code",
   "execution_count": 16,
   "id": "6b96eb44",
   "metadata": {},
   "outputs": [
    {
     "data": {
      "text/plain": [
       "100"
      ]
     },
     "execution_count": 16,
     "metadata": {},
     "output_type": "execute_result"
    }
   ],
   "source": [
    "x = 100\n",
    "y = False\n",
    "x or y"
   ]
  },
  {
   "cell_type": "code",
   "execution_count": 17,
   "id": "91693e71",
   "metadata": {},
   "outputs": [
    {
     "data": {
      "text/plain": [
       "False"
      ]
     },
     "execution_count": 17,
     "metadata": {},
     "output_type": "execute_result"
    }
   ],
   "source": [
    "x = False\n",
    "y = False\n",
    "x or y"
   ]
  },
  {
   "cell_type": "code",
   "execution_count": 18,
   "id": "b48da2ae",
   "metadata": {},
   "outputs": [
    {
     "data": {
      "text/plain": [
       "False"
      ]
     },
     "execution_count": 18,
     "metadata": {},
     "output_type": "execute_result"
    }
   ],
   "source": [
    "a = 100\n",
    "b = 200\n",
    "not(a and b)"
   ]
  },
  {
   "cell_type": "code",
   "execution_count": 29,
   "id": "dd344d83",
   "metadata": {},
   "outputs": [
    {
     "name": "stdout",
     "output_type": "stream",
     "text": [
      "when you were here before\tcouldn't look you in the eyes <class 'str'>\n",
      "hihihi\n",
      "6\n",
      "['when', 'you', 'were', 'here', 'before', \"couldn't\", 'look', 'you', 'in', 'the', 'eyes']\n",
      "When You Were Here Before\tCouldn'T Look You In The Eyes\n"
     ]
    }
   ],
   "source": [
    "message = \"when you were here before\\tcouldn't look you in the eyes\"\n",
    "print(message,type(message))\n",
    "print(\"hi\"*3)\n",
    "print(len(\"hello \"))\n",
    "substrings = message.split()\n",
    "print(substrings)\n",
    "print(message.title())"
   ]
  },
  {
   "cell_type": "code",
   "execution_count": 22,
   "id": "1bd4dfe9",
   "metadata": {},
   "outputs": [
    {
     "data": {
      "text/plain": [
       "['__add__',\n",
       " '__class__',\n",
       " '__contains__',\n",
       " '__delattr__',\n",
       " '__dir__',\n",
       " '__doc__',\n",
       " '__eq__',\n",
       " '__format__',\n",
       " '__ge__',\n",
       " '__getattribute__',\n",
       " '__getitem__',\n",
       " '__getnewargs__',\n",
       " '__getstate__',\n",
       " '__gt__',\n",
       " '__hash__',\n",
       " '__init__',\n",
       " '__init_subclass__',\n",
       " '__iter__',\n",
       " '__le__',\n",
       " '__len__',\n",
       " '__lt__',\n",
       " '__mod__',\n",
       " '__mul__',\n",
       " '__ne__',\n",
       " '__new__',\n",
       " '__reduce__',\n",
       " '__reduce_ex__',\n",
       " '__repr__',\n",
       " '__rmod__',\n",
       " '__rmul__',\n",
       " '__setattr__',\n",
       " '__sizeof__',\n",
       " '__str__',\n",
       " '__subclasshook__',\n",
       " 'capitalize',\n",
       " 'casefold',\n",
       " 'center',\n",
       " 'count',\n",
       " 'encode',\n",
       " 'endswith',\n",
       " 'expandtabs',\n",
       " 'find',\n",
       " 'format',\n",
       " 'format_map',\n",
       " 'index',\n",
       " 'isalnum',\n",
       " 'isalpha',\n",
       " 'isascii',\n",
       " 'isdecimal',\n",
       " 'isdigit',\n",
       " 'isidentifier',\n",
       " 'islower',\n",
       " 'isnumeric',\n",
       " 'isprintable',\n",
       " 'isspace',\n",
       " 'istitle',\n",
       " 'isupper',\n",
       " 'join',\n",
       " 'ljust',\n",
       " 'lower',\n",
       " 'lstrip',\n",
       " 'maketrans',\n",
       " 'partition',\n",
       " 'removeprefix',\n",
       " 'removesuffix',\n",
       " 'replace',\n",
       " 'rfind',\n",
       " 'rindex',\n",
       " 'rjust',\n",
       " 'rpartition',\n",
       " 'rsplit',\n",
       " 'rstrip',\n",
       " 'split',\n",
       " 'splitlines',\n",
       " 'startswith',\n",
       " 'strip',\n",
       " 'swapcase',\n",
       " 'title',\n",
       " 'translate',\n",
       " 'upper',\n",
       " 'zfill']"
      ]
     },
     "execution_count": 22,
     "metadata": {},
     "output_type": "execute_result"
    }
   ],
   "source": [
    "dir(str)"
   ]
  },
  {
   "cell_type": "code",
   "execution_count": 25,
   "id": "993c7e7a",
   "metadata": {},
   "outputs": [
    {
     "name": "stdout",
     "output_type": "stream",
     "text": [
      "Help on built-in function print in module builtins:\n",
      "\n",
      "print(*args, sep=' ', end='\\n', file=None, flush=False)\n",
      "    Prints the values to a stream, or to sys.stdout by default.\n",
      "    \n",
      "    sep\n",
      "      string inserted between values, default a space.\n",
      "    end\n",
      "      string appended after the last value, default a newline.\n",
      "    file\n",
      "      a file-like object (stream); defaults to the current sys.stdout.\n",
      "    flush\n",
      "      whether to forcibly flush the stream.\n",
      "\n"
     ]
    }
   ],
   "source": [
    "help(print)"
   ]
  },
  {
   "cell_type": "code",
   "execution_count": 26,
   "id": "d3c0ef2a",
   "metadata": {},
   "outputs": [
    {
     "name": "stdout",
     "output_type": "stream",
     "text": [
      "Help on method_descriptor:\n",
      "\n",
      "split(self, /, sep=None, maxsplit=-1)\n",
      "    Return a list of the substrings in the string, using sep as the separator string.\n",
      "    \n",
      "      sep\n",
      "        The separator used to split the string.\n",
      "    \n",
      "        When set to None (the default value), will split on any whitespace\n",
      "        character (including \\\\n \\\\r \\\\t \\\\f and spaces) and will discard\n",
      "        empty strings from the result.\n",
      "      maxsplit\n",
      "        Maximum number of splits (starting from the left).\n",
      "        -1 (the default value) means no limit.\n",
      "    \n",
      "    Note, str.split() is mainly useful for data that has been intentionally\n",
      "    delimited.  With natural text that includes punctuation, consider using\n",
      "    the regular expression module.\n",
      "\n"
     ]
    }
   ],
   "source": [
    "help(str.split)"
   ]
  },
  {
   "cell_type": "code",
   "execution_count": 38,
   "id": "25f0210e",
   "metadata": {},
   "outputs": [
    {
     "data": {
      "text/plain": [
       "\"when you were here before, couldn't look you in the eyes.\""
      ]
     },
     "execution_count": 38,
     "metadata": {},
     "output_type": "execute_result"
    }
   ],
   "source": [
    "line1 = \"when you were here before,\"\n",
    "line2 = \"couldn't look you in the eyes.\"\n",
    "\"{} {}\".format(line1,line2)"
   ]
  },
  {
   "cell_type": "code",
   "execution_count": 39,
   "id": "a59b001f",
   "metadata": {},
   "outputs": [
    {
     "data": {
      "text/plain": [
       "\"couldn't look you in the eyes. when you were here before, couldn't look you in the eyes.\""
      ]
     },
     "execution_count": 39,
     "metadata": {},
     "output_type": "execute_result"
    }
   ],
   "source": [
    "\"{1} {0} {1}\".format(line1,line2)"
   ]
  },
  {
   "cell_type": "code",
   "execution_count": 40,
   "id": "f99f7990",
   "metadata": {},
   "outputs": [
    {
     "data": {
      "text/plain": [
       "'3.000'"
      ]
     },
     "execution_count": 40,
     "metadata": {},
     "output_type": "execute_result"
    }
   ],
   "source": [
    "\"{:.3f}\".format(3)"
   ]
  },
  {
   "cell_type": "code",
   "execution_count": 46,
   "id": "34ec009d",
   "metadata": {},
   "outputs": [
    {
     "data": {
      "text/plain": [
       "'-3.142'"
      ]
     },
     "execution_count": 46,
     "metadata": {},
     "output_type": "execute_result"
    }
   ],
   "source": [
    "\"{:.3f}\".format(-3.1415926)"
   ]
  },
  {
   "cell_type": "code",
   "execution_count": 47,
   "id": "faae34a7",
   "metadata": {},
   "outputs": [
    {
     "name": "stdout",
     "output_type": "stream",
     "text": [
      "[2, 4, 6]\n"
     ]
    }
   ],
   "source": [
    "mix = ['Chines',2,[2,4,6]]\n",
    "print(mix[2])"
   ]
  },
  {
   "cell_type": "code",
   "execution_count": 48,
   "id": "7843537a",
   "metadata": {},
   "outputs": [
    {
     "name": "stdout",
     "output_type": "stream",
     "text": [
      "4\n"
     ]
    }
   ],
   "source": [
    "print(mix[2][1])"
   ]
  },
  {
   "cell_type": "code",
   "execution_count": 49,
   "id": "e5882ca6",
   "metadata": {},
   "outputs": [
    {
     "data": {
      "text/plain": [
       "['Chines', 2, [2, 4, 6]]"
      ]
     },
     "execution_count": 49,
     "metadata": {},
     "output_type": "execute_result"
    }
   ],
   "source": [
    "mix[:]"
   ]
  },
  {
   "cell_type": "code",
   "execution_count": 50,
   "id": "66640155",
   "metadata": {},
   "outputs": [
    {
     "data": {
      "text/plain": [
       "[1, 3]"
      ]
     },
     "execution_count": 50,
     "metadata": {},
     "output_type": "execute_result"
    }
   ],
   "source": [
    "list1 = [1,2,3,4,5,6,7,8,9]\n",
    "list1[0:4:2]"
   ]
  },
  {
   "cell_type": "code",
   "execution_count": 51,
   "id": "9cbee7c7",
   "metadata": {},
   "outputs": [
    {
     "data": {
      "text/plain": [
       "[[2, 4, 6], 2, 'Chines']"
      ]
     },
     "execution_count": 51,
     "metadata": {},
     "output_type": "execute_result"
    }
   ],
   "source": [
    "mix[::-1]"
   ]
  },
  {
   "cell_type": "code",
   "execution_count": 52,
   "id": "eadeb7f9",
   "metadata": {},
   "outputs": [
    {
     "data": {
      "text/plain": [
       "['w',\n",
       " 'h',\n",
       " 'e',\n",
       " 'n',\n",
       " ' ',\n",
       " 'y',\n",
       " 'o',\n",
       " 'u',\n",
       " ' ',\n",
       " 'w',\n",
       " 'e',\n",
       " 'r',\n",
       " 'e',\n",
       " ' ',\n",
       " 'h',\n",
       " 'e',\n",
       " 'r',\n",
       " 'e',\n",
       " ' ',\n",
       " 'b',\n",
       " 'e',\n",
       " 'f',\n",
       " 'o',\n",
       " 'r',\n",
       " 'e',\n",
       " '\\t',\n",
       " 'c',\n",
       " 'o',\n",
       " 'u',\n",
       " 'l',\n",
       " 'd',\n",
       " 'n',\n",
       " \"'\",\n",
       " 't',\n",
       " ' ',\n",
       " 'l',\n",
       " 'o',\n",
       " 'o',\n",
       " 'k',\n",
       " ' ',\n",
       " 'y',\n",
       " 'o',\n",
       " 'u',\n",
       " ' ',\n",
       " 'i',\n",
       " 'n',\n",
       " ' ',\n",
       " 't',\n",
       " 'h',\n",
       " 'e',\n",
       " ' ',\n",
       " 'e',\n",
       " 'y',\n",
       " 'e',\n",
       " 's']"
      ]
     },
     "execution_count": 52,
     "metadata": {},
     "output_type": "execute_result"
    }
   ],
   "source": [
    "list_ = list(message)\n",
    "list_"
   ]
  },
  {
   "cell_type": "code",
   "execution_count": 53,
   "id": "f10a7f07",
   "metadata": {},
   "outputs": [
    {
     "data": {
      "text/plain": [
       "[1, 2, 3, 4, 5, 6, 7, 8, 9, 'Chines', 2, [2, 4, 6]]"
      ]
     },
     "execution_count": 53,
     "metadata": {},
     "output_type": "execute_result"
    }
   ],
   "source": [
    "list1 + mix"
   ]
  },
  {
   "cell_type": "code",
   "execution_count": 54,
   "id": "81a697d6",
   "metadata": {},
   "outputs": [
    {
     "data": {
      "text/plain": [
       "['Chines', 2, [2, 4, 6], 'Chines', 2, [2, 4, 6], 'Chines', 2, [2, 4, 6]]"
      ]
     },
     "execution_count": 54,
     "metadata": {},
     "output_type": "execute_result"
    }
   ],
   "source": [
    "mix * 3"
   ]
  },
  {
   "cell_type": "code",
   "execution_count": 58,
   "id": "05cdd7e4",
   "metadata": {},
   "outputs": [
    {
     "name": "stdout",
     "output_type": "stream",
     "text": [
      "['before', \"couldn't\", 'eyes', 'here', 'in', 'look', 'the', 'were', 'when', 'you', 'you']\n",
      "['you', 'you', 'when', 'were', 'the', 'look', 'in', 'here', 'eyes', \"couldn't\", 'before']\n"
     ]
    }
   ],
   "source": [
    "substrings.sort()\n",
    "print(substrings)\n",
    "substrings.sort(reverse=True)\n",
    "print(substrings)"
   ]
  },
  {
   "cell_type": "code",
   "execution_count": 60,
   "id": "234566da",
   "metadata": {},
   "outputs": [
    {
     "name": "stdout",
     "output_type": "stream",
     "text": [
      "['you', 'you', 'when', 'were', 'the', 'look', 'in', 'here', 'eyes', \"couldn't\", 'before']\n"
     ]
    }
   ],
   "source": [
    "substrings.reverse()\n",
    "print(substrings)"
   ]
  },
  {
   "cell_type": "code",
   "execution_count": 61,
   "id": "0df48c86",
   "metadata": {},
   "outputs": [
    {
     "data": {
      "text/plain": [
       "['before',\n",
       " \"couldn't\",\n",
       " 'eyes',\n",
       " 'here',\n",
       " 'in',\n",
       " 'look',\n",
       " 'the',\n",
       " 'were',\n",
       " 'when',\n",
       " 'you',\n",
       " 'you']"
      ]
     },
     "execution_count": 61,
     "metadata": {},
     "output_type": "execute_result"
    }
   ],
   "source": [
    "sorted(substrings,reverse=False)"
   ]
  },
  {
   "cell_type": "code",
   "execution_count": 62,
   "id": "691dbba6",
   "metadata": {},
   "outputs": [
    {
     "name": "stdout",
     "output_type": "stream",
     "text": [
      "[2, 12, 34, 45, 67]\n"
     ]
    }
   ],
   "source": [
    "list2 = [2,45,67,12,34]\n",
    "list2.sort()\n",
    "print(list2)"
   ]
  },
  {
   "cell_type": "code",
   "execution_count": 63,
   "id": "7ec3b00b",
   "metadata": {},
   "outputs": [
    {
     "data": {
      "text/plain": [
       "[2, 12, 34, 45, 67]"
      ]
     },
     "execution_count": 63,
     "metadata": {},
     "output_type": "execute_result"
    }
   ],
   "source": [
    "list2"
   ]
  },
  {
   "cell_type": "code",
   "execution_count": 64,
   "id": "b601d1c5",
   "metadata": {},
   "outputs": [
    {
     "data": {
      "text/plain": [
       "range(0, 5)"
      ]
     },
     "execution_count": 64,
     "metadata": {},
     "output_type": "execute_result"
    }
   ],
   "source": [
    "range(5)"
   ]
  },
  {
   "cell_type": "code",
   "execution_count": 65,
   "id": "ddf037ad",
   "metadata": {},
   "outputs": [],
   "source": [
    "list3 = []\n",
    "for i in range(5):\n",
    "    list3.append(i)"
   ]
  },
  {
   "cell_type": "code",
   "execution_count": 66,
   "id": "f8b83fc2",
   "metadata": {},
   "outputs": [
    {
     "name": "stdout",
     "output_type": "stream",
     "text": [
      "[0, 1, 2, 3, 4]\n"
     ]
    }
   ],
   "source": [
    "print(list3)"
   ]
  },
  {
   "cell_type": "code",
   "execution_count": 67,
   "id": "ad4ce6f8",
   "metadata": {},
   "outputs": [
    {
     "data": {
      "text/plain": [
       "[('spring', 0), ('summer', 1), ('autumn', 2), ('winter', 3)]"
      ]
     },
     "execution_count": 67,
     "metadata": {},
     "output_type": "execute_result"
    }
   ],
   "source": [
    "seasons = ['spring','summer','autumn','winter']\n",
    "list(zip(seasons,range(len(seasons))))"
   ]
  },
  {
   "cell_type": "code",
   "execution_count": 71,
   "id": "8ef398c3",
   "metadata": {},
   "outputs": [],
   "source": [
    "c_seasons = ['春天','夏天','秋天','冬天']\n",
    "temp=zip(seasons,c_seasons)"
   ]
  },
  {
   "cell_type": "code",
   "execution_count": 72,
   "id": "d25112d5",
   "metadata": {},
   "outputs": [
    {
     "name": "stdout",
     "output_type": "stream",
     "text": [
      "<zip object at 0x000001F235956100>\n"
     ]
    }
   ],
   "source": [
    "print(temp)"
   ]
  },
  {
   "cell_type": "code",
   "execution_count": 73,
   "id": "bb6ba81d",
   "metadata": {},
   "outputs": [
    {
     "data": {
      "text/plain": [
       "[('spring', '春天'), ('summer', '夏天'), ('autumn', '秋天'), ('winter', '冬天')]"
      ]
     },
     "execution_count": 73,
     "metadata": {},
     "output_type": "execute_result"
    }
   ],
   "source": [
    "list(temp)"
   ]
  },
  {
   "cell_type": "code",
   "execution_count": 74,
   "id": "2b1ccbc6",
   "metadata": {
    "scrolled": true
   },
   "outputs": [
    {
     "name": "stdout",
     "output_type": "stream",
     "text": [
      "<enumerate object at 0x000001F235977A60>\n"
     ]
    }
   ],
   "source": [
    "temp1=enumerate(seasons)\n",
    "print(temp1)"
   ]
  },
  {
   "cell_type": "code",
   "execution_count": 75,
   "id": "d38959e0",
   "metadata": {},
   "outputs": [
    {
     "data": {
      "text/plain": [
       "[(0, 'spring'), (1, 'summer'), (2, 'autumn'), (3, 'winter')]"
      ]
     },
     "execution_count": 75,
     "metadata": {},
     "output_type": "execute_result"
    }
   ],
   "source": [
    "list(temp1)"
   ]
  },
  {
   "cell_type": "code",
   "execution_count": 76,
   "id": "d197a75c",
   "metadata": {},
   "outputs": [
    {
     "data": {
      "text/plain": [
       "[(3, '春天'), (4, '夏天'), (5, '秋天'), (6, '冬天')]"
      ]
     },
     "execution_count": 76,
     "metadata": {},
     "output_type": "execute_result"
    }
   ],
   "source": [
    "list(enumerate(c_seasons,start = 3))"
   ]
  },
  {
   "cell_type": "code",
   "execution_count": 77,
   "id": "10baae9c",
   "metadata": {},
   "outputs": [
    {
     "data": {
      "text/plain": [
       "\"when you were here before\\tcouldn't look you in the eyes\""
      ]
     },
     "execution_count": 77,
     "metadata": {},
     "output_type": "execute_result"
    }
   ],
   "source": [
    "message"
   ]
  },
  {
   "cell_type": "code",
   "execution_count": 78,
   "id": "35648e9e",
   "metadata": {},
   "outputs": [
    {
     "name": "stdout",
     "output_type": "stream",
     "text": [
      "(1, 'h')\n",
      "(2, 'e')\n",
      "(3, 'l')\n",
      "(4, 'l')\n",
      "(5, 'o')\n",
      "(6, ',')\n",
      "(7, 'w')\n",
      "(8, 'o')\n",
      "(9, 'r')\n",
      "(10, 'l')\n",
      "(11, 'd')\n"
     ]
    }
   ],
   "source": [
    "greet = \"hello,world\"\n",
    "for item in enumerate(greet,start = 1):\n",
    "    print(item)"
   ]
  },
  {
   "cell_type": "code",
   "execution_count": 82,
   "id": "e29a0339",
   "metadata": {},
   "outputs": [],
   "source": [
    "tup1 = (100,)"
   ]
  },
  {
   "cell_type": "code",
   "execution_count": 83,
   "id": "f8faa6c1",
   "metadata": {},
   "outputs": [
    {
     "name": "stdout",
     "output_type": "stream",
     "text": [
      "(100,)\n"
     ]
    },
    {
     "data": {
      "text/plain": [
       "tuple"
      ]
     },
     "execution_count": 83,
     "metadata": {},
     "output_type": "execute_result"
    }
   ],
   "source": [
    "print(tup1)\n",
    "type(tup1)"
   ]
  },
  {
   "cell_type": "code",
   "execution_count": 87,
   "id": "107816f4",
   "metadata": {},
   "outputs": [
    {
     "data": {
      "text/plain": [
       "'(2, 12.0, (5+3j))'"
      ]
     },
     "execution_count": 87,
     "metadata": {},
     "output_type": "execute_result"
    }
   ],
   "source": [
    "str(tup2)"
   ]
  },
  {
   "cell_type": "code",
   "execution_count": 88,
   "id": "60b6149a",
   "metadata": {},
   "outputs": [
    {
     "data": {
      "text/plain": [
       "'hello,world'"
      ]
     },
     "execution_count": 88,
     "metadata": {},
     "output_type": "execute_result"
    }
   ],
   "source": [
    "greet"
   ]
  },
  {
   "cell_type": "code",
   "execution_count": 92,
   "id": "f2fe29b1",
   "metadata": {},
   "outputs": [
    {
     "name": "stdout",
     "output_type": "stream",
     "text": [
      "('h', 'e', 'l', 'l', 'o', ',', 'w', 'o', 'r', 'l', 'd')\n"
     ]
    },
    {
     "data": {
      "text/plain": [
       "2139792248640"
      ]
     },
     "execution_count": 92,
     "metadata": {},
     "output_type": "execute_result"
    }
   ],
   "source": [
    "tup4 = tuple(greet)\n",
    "print(tup4)\n",
    "id(tup4)"
   ]
  },
  {
   "cell_type": "code",
   "execution_count": 93,
   "id": "6ffaff57",
   "metadata": {},
   "outputs": [
    {
     "name": "stdout",
     "output_type": "stream",
     "text": [
      "('h', 'e', 'l', 'l', 'o', 'w', 'o', 'r', 'l', 'd')\n"
     ]
    },
    {
     "data": {
      "text/plain": [
       "2139792248768"
      ]
     },
     "execution_count": 93,
     "metadata": {},
     "output_type": "execute_result"
    }
   ],
   "source": [
    "tup4 = tup4[:5]+tup4[6:]\n",
    "print(tup4)\n",
    "id(tup4)"
   ]
  },
  {
   "cell_type": "code",
   "execution_count": 94,
   "id": "a3ebce97",
   "metadata": {},
   "outputs": [],
   "source": [
    "dic1={\"spring\":\"春天\",\"summer\":\"夏天\",3:\"autumn\",4:seasons}"
   ]
  },
  {
   "cell_type": "code",
   "execution_count": 95,
   "id": "7b9a2520",
   "metadata": {},
   "outputs": [
    {
     "data": {
      "text/plain": [
       "dict_items([('spring', '春天'), ('summer', '夏天'), (3, 'autumn'), (4, ['spring', 'summer', 'autumn', 'winter'])])"
      ]
     },
     "execution_count": 95,
     "metadata": {},
     "output_type": "execute_result"
    }
   ],
   "source": [
    "dic1.items()"
   ]
  },
  {
   "cell_type": "code",
   "execution_count": 96,
   "id": "4d47e8ff",
   "metadata": {},
   "outputs": [
    {
     "data": {
      "text/plain": [
       "dict_keys(['spring', 'summer', 3, 4])"
      ]
     },
     "execution_count": 96,
     "metadata": {},
     "output_type": "execute_result"
    }
   ],
   "source": [
    "dic1.keys()"
   ]
  },
  {
   "cell_type": "code",
   "execution_count": 97,
   "id": "70c234c6",
   "metadata": {},
   "outputs": [
    {
     "data": {
      "text/plain": [
       "dict_values(['春天', '夏天', 'autumn', ['spring', 'summer', 'autumn', 'winter']])"
      ]
     },
     "execution_count": 97,
     "metadata": {},
     "output_type": "execute_result"
    }
   ],
   "source": [
    "dic1.values()"
   ]
  },
  {
   "cell_type": "code",
   "execution_count": 98,
   "id": "e0f48ce7",
   "metadata": {},
   "outputs": [
    {
     "data": {
      "text/plain": [
       "'春天'"
      ]
     },
     "execution_count": 98,
     "metadata": {},
     "output_type": "execute_result"
    }
   ],
   "source": [
    "dic1.get(\"spring\")"
   ]
  },
  {
   "cell_type": "code",
   "execution_count": 106,
   "id": "8a726730",
   "metadata": {},
   "outputs": [
    {
     "data": {
      "text/plain": [
       "\"the value you're looking for doesn't exist.\""
      ]
     },
     "execution_count": 106,
     "metadata": {},
     "output_type": "execute_result"
    }
   ],
   "source": [
    "dic1.get(100,\"the value you're looking for doesn't exist.\")"
   ]
  },
  {
   "cell_type": "code",
   "execution_count": 108,
   "id": "0fd13134",
   "metadata": {},
   "outputs": [],
   "source": [
    "dic2 = {'Bob':29}\n",
    "dic1.update(dic2)"
   ]
  },
  {
   "cell_type": "code",
   "execution_count": 109,
   "id": "4ba1e04a",
   "metadata": {},
   "outputs": [
    {
     "data": {
      "text/plain": [
       "{'spring': '春天',\n",
       " 'summer': '夏天',\n",
       " 3: 'autumn',\n",
       " 4: ['spring', 'summer', 'autumn', 'winter'],\n",
       " 'Bob': 29}"
      ]
     },
     "execution_count": 109,
     "metadata": {},
     "output_type": "execute_result"
    }
   ],
   "source": [
    "dic1"
   ]
  },
  {
   "cell_type": "code",
   "execution_count": 112,
   "id": "8a846f96",
   "metadata": {},
   "outputs": [
    {
     "data": {
      "text/plain": [
       "(3, 'autumn')"
      ]
     },
     "execution_count": 112,
     "metadata": {},
     "output_type": "execute_result"
    }
   ],
   "source": [
    "dic1.popitem()"
   ]
  },
  {
   "cell_type": "code",
   "execution_count": 113,
   "id": "161c8575",
   "metadata": {},
   "outputs": [
    {
     "data": {
      "text/plain": [
       "{'spring': '春天', 'summer': '夏天'}"
      ]
     },
     "execution_count": 113,
     "metadata": {},
     "output_type": "execute_result"
    }
   ],
   "source": [
    "dic1"
   ]
  },
  {
   "cell_type": "code",
   "execution_count": 114,
   "id": "10c161b9",
   "metadata": {},
   "outputs": [
    {
     "data": {
      "text/plain": [
       "{0, 1, 2, 3, 4, 5, 6, 8}"
      ]
     },
     "execution_count": 114,
     "metadata": {},
     "output_type": "execute_result"
    }
   ],
   "source": [
    "a_set = set([1,3,4,5,6])\n",
    "b_set = {2,4,6,8,0}\n",
    "a_set.union(b_set)"
   ]
  },
  {
   "cell_type": "code",
   "execution_count": 115,
   "id": "bf8be0cc",
   "metadata": {},
   "outputs": [
    {
     "data": {
      "text/plain": [
       "{0, 1, 2, 3, 4, 5, 6, 8}"
      ]
     },
     "execution_count": 115,
     "metadata": {},
     "output_type": "execute_result"
    }
   ],
   "source": [
    "a_set | b_set"
   ]
  },
  {
   "cell_type": "code",
   "execution_count": 116,
   "id": "795f723c",
   "metadata": {},
   "outputs": [
    {
     "data": {
      "text/plain": [
       "{4, 6}"
      ]
     },
     "execution_count": 116,
     "metadata": {},
     "output_type": "execute_result"
    }
   ],
   "source": [
    "a_set & b_set"
   ]
  },
  {
   "cell_type": "code",
   "execution_count": 117,
   "id": "03352dfb",
   "metadata": {},
   "outputs": [
    {
     "name": "stdout",
     "output_type": "stream",
     "text": [
      "{1, 3, 5}\n",
      "{0, 1, 2, 3, 5, 8}\n"
     ]
    }
   ],
   "source": [
    "print(a_set - b_set)\n",
    "print(a_set ^ b_set)"
   ]
  },
  {
   "cell_type": "code",
   "execution_count": 1,
   "id": "f86f37b4",
   "metadata": {},
   "outputs": [
    {
     "name": "stdout",
     "output_type": "stream",
     "text": [
      "b\n"
     ]
    }
   ],
   "source": [
    "a_list = []\n",
    "if a_list:\n",
    "    print(\"a\")\n",
    "else :\n",
    "    print(\"b\")"
   ]
  },
  {
   "cell_type": "code",
   "execution_count": 2,
   "id": "690aa626",
   "metadata": {},
   "outputs": [
    {
     "name": "stdout",
     "output_type": "stream",
     "text": [
      "no\n"
     ]
    }
   ],
   "source": [
    "flag = 0\n",
    "print(\"yes\") if flag == 1 else print(\"no\")"
   ]
  },
  {
   "cell_type": "code",
   "execution_count": 3,
   "id": "709591da",
   "metadata": {},
   "outputs": [
    {
     "name": "stdout",
     "output_type": "stream",
     "text": [
      "0\n",
      "1\n",
      "2\n",
      "3\n",
      "4\n",
      "5\n",
      "6\n",
      "7\n",
      "8\n",
      "9\n",
      "10\n",
      "11\n",
      "12\n",
      "13\n",
      "14\n",
      "15\n",
      "16\n",
      "17\n",
      "18\n",
      "19\n",
      "20\n",
      "21\n",
      "22\n",
      "23\n",
      "24\n",
      "25\n",
      "26\n",
      "27\n",
      "28\n",
      "29\n",
      "30\n",
      "31\n",
      "32\n",
      "33\n",
      "34\n",
      "35\n",
      "36\n",
      "37\n",
      "38\n",
      "39\n",
      "40\n",
      "41\n",
      "42\n",
      "43\n",
      "44\n",
      "45\n",
      "46\n",
      "47\n",
      "48\n",
      "49\n",
      "50\n",
      "51\n",
      "52\n",
      "53\n",
      "54\n",
      "55\n",
      "56\n",
      "57\n",
      "58\n",
      "59\n",
      "60\n",
      "61\n",
      "62\n",
      "63\n",
      "64\n",
      "65\n",
      "66\n",
      "67\n",
      "68\n",
      "69\n",
      "70\n",
      "71\n",
      "72\n",
      "73\n",
      "74\n",
      "75\n",
      "76\n",
      "77\n",
      "78\n",
      "79\n",
      "80\n",
      "81\n",
      "82\n",
      "83\n",
      "84\n",
      "85\n",
      "86\n",
      "87\n",
      "88\n",
      "89\n",
      "90\n",
      "91\n",
      "92\n",
      "93\n",
      "94\n",
      "95\n",
      "96\n",
      "97\n",
      "98\n",
      "99\n",
      "100\n"
     ]
    }
   ],
   "source": [
    "for i in range(101):\n",
    "    print(i)"
   ]
  },
  {
   "cell_type": "code",
   "execution_count": null,
   "id": "58415bee",
   "metadata": {},
   "outputs": [],
   "source": []
  }
 ],
 "metadata": {
  "kernelspec": {
   "display_name": "Python 3 (ipykernel)",
   "language": "python",
   "name": "python3"
  },
  "language_info": {
   "codemirror_mode": {
    "name": "ipython",
    "version": 3
   },
   "file_extension": ".py",
   "mimetype": "text/x-python",
   "name": "python",
   "nbconvert_exporter": "python",
   "pygments_lexer": "ipython3",
   "version": "3.11.5"
  }
 },
 "nbformat": 4,
 "nbformat_minor": 5
}
