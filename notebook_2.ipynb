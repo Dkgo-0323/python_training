{
 "cells": [
  {
   "cell_type": "code",
   "execution_count": 2,
   "id": "d124db69",
   "metadata": {},
   "outputs": [
    {
     "name": "stdout",
     "output_type": "stream",
     "text": [
      "<enumerate object at 0x0000026D7DB43F10>\n"
     ]
    }
   ],
   "source": [
    "greetings = \"hello,world!\"\n",
    "print(enumerate(greetings))"
   ]
  },
  {
   "cell_type": "code",
   "execution_count": 3,
   "id": "6bce5263",
   "metadata": {},
   "outputs": [
    {
     "data": {
      "text/plain": [
       "[(3, 'h'),\n",
       " (4, 'e'),\n",
       " (5, 'l'),\n",
       " (6, 'l'),\n",
       " (7, 'o'),\n",
       " (8, ','),\n",
       " (9, 'w'),\n",
       " (10, 'o'),\n",
       " (11, 'r'),\n",
       " (12, 'l'),\n",
       " (13, 'd'),\n",
       " (14, '!')]"
      ]
     },
     "execution_count": 3,
     "metadata": {},
     "output_type": "execute_result"
    }
   ],
   "source": [
    "list(enumerate(greetings,start= 3))"
   ]
  },
  {
   "cell_type": "code",
   "execution_count": 8,
   "id": "5493214c",
   "metadata": {
    "scrolled": true
   },
   "outputs": [
    {
     "name": "stdout",
     "output_type": "stream",
     "text": [
      "seasons[0] is spring\n",
      "seasons[1] is summer\n",
      "seasons[2] is autumn\n",
      "seasons[3] is winter\n"
     ]
    }
   ],
   "source": [
    "seasons = ['spring','summer','autumn','winter']\n",
    "for index,key in enumerate(seasons):\n",
    "    print(\"seasons[{0}] is {1}\".format(index,key))"
   ]
  },
  {
   "cell_type": "code",
   "execution_count": 1,
   "id": "4b14684a",
   "metadata": {},
   "outputs": [],
   "source": [
    "a_list = [x**2 for x in range(4)]"
   ]
  },
  {
   "cell_type": "code",
   "execution_count": 2,
   "id": "3612ccbf",
   "metadata": {},
   "outputs": [
    {
     "name": "stdout",
     "output_type": "stream",
     "text": [
      "[0, 1, 4, 9]\n"
     ]
    }
   ],
   "source": [
    "print(a_list)"
   ]
  },
  {
   "cell_type": "code",
   "execution_count": 3,
   "id": "3e4ffd9e",
   "metadata": {},
   "outputs": [],
   "source": [
    "b_list = [e**2 for e in a_list if type(e) == int]"
   ]
  },
  {
   "cell_type": "code",
   "execution_count": 4,
   "id": "3f9eb8a0",
   "metadata": {},
   "outputs": [
    {
     "data": {
      "text/plain": [
       "[0, 1, 16, 81]"
      ]
     },
     "execution_count": 4,
     "metadata": {},
     "output_type": "execute_result"
    }
   ],
   "source": [
    "b_list"
   ]
  },
  {
   "cell_type": "code",
   "execution_count": 5,
   "id": "2a9334bc",
   "metadata": {},
   "outputs": [],
   "source": [
    "vec = [[1,2,3],[4,5,6],[7,8,9]]\n",
    "x_list = [num for elem in vec for num in elem]"
   ]
  },
  {
   "cell_type": "code",
   "execution_count": 6,
   "id": "7afa895d",
   "metadata": {},
   "outputs": [
    {
     "data": {
      "text/plain": [
       "[1, 2, 3, 4, 5, 6, 7, 8, 9]"
      ]
     },
     "execution_count": 6,
     "metadata": {},
     "output_type": "execute_result"
    }
   ],
   "source": [
    "x_list"
   ]
  },
  {
   "cell_type": "code",
   "execution_count": 7,
   "id": "f64940e6",
   "metadata": {},
   "outputs": [
    {
     "data": {
      "text/plain": [
       "[(4, 4)]"
      ]
     },
     "execution_count": 7,
     "metadata": {},
     "output_type": "execute_result"
    }
   ],
   "source": [
    "[(x,y) for x in [1,4,5] for y in [2,3,4] if x == y]"
   ]
  },
  {
   "cell_type": "code",
   "execution_count": 9,
   "id": "1410c9f8",
   "metadata": {},
   "outputs": [],
   "source": [
    "c_dic = {}\n",
    "n=1\n",
    "for season in seasons:\n",
    "    c_dic[n] = season\n",
    "    n = n+1"
   ]
  },
  {
   "cell_type": "code",
   "execution_count": 10,
   "id": "08a27325",
   "metadata": {},
   "outputs": [
    {
     "data": {
      "text/plain": [
       "{1: 'spring', 2: 'summer', 3: 'autumn', 4: 'winter'}"
      ]
     },
     "execution_count": 10,
     "metadata": {},
     "output_type": "execute_result"
    }
   ],
   "source": [
    "c_dic"
   ]
  },
  {
   "cell_type": "code",
   "execution_count": 14,
   "id": "7f183e61",
   "metadata": {},
   "outputs": [],
   "source": [
    "kv_exchange = {v:k for (k,v) in c_dic.items()}"
   ]
  },
  {
   "cell_type": "code",
   "execution_count": 15,
   "id": "7542f050",
   "metadata": {},
   "outputs": [
    {
     "data": {
      "text/plain": [
       "{'spring': 1, 'summer': 2, 'autumn': 3, 'winter': 4}"
      ]
     },
     "execution_count": 15,
     "metadata": {},
     "output_type": "execute_result"
    }
   ],
   "source": [
    "kv_exchange"
   ]
  },
  {
   "cell_type": "code",
   "execution_count": 16,
   "id": "171349b8",
   "metadata": {},
   "outputs": [
    {
     "data": {
      "text/plain": [
       "dict_items([('spring', 1), ('summer', 2), ('autumn', 3), ('winter', 4)])"
      ]
     },
     "execution_count": 16,
     "metadata": {},
     "output_type": "execute_result"
    }
   ],
   "source": [
    "kv_exchange.items()"
   ]
  },
  {
   "cell_type": "code",
   "execution_count": 17,
   "id": "f9840859",
   "metadata": {},
   "outputs": [
    {
     "data": {
      "text/plain": [
       "2475698205040"
      ]
     },
     "execution_count": 17,
     "metadata": {},
     "output_type": "execute_result"
    }
   ],
   "source": [
    "msg = 'hello,world'\n",
    "id(msg)"
   ]
  },
  {
   "cell_type": "code",
   "execution_count": 18,
   "id": "ba8bd077",
   "metadata": {},
   "outputs": [
    {
     "data": {
      "text/plain": [
       "2475698155568"
      ]
     },
     "execution_count": 18,
     "metadata": {},
     "output_type": "execute_result"
    }
   ],
   "source": [
    "msg = \"goodbye\"\n",
    "id(msg)"
   ]
  },
  {
   "cell_type": "code",
   "execution_count": 19,
   "id": "1a7d6730",
   "metadata": {},
   "outputs": [
    {
     "data": {
      "text/plain": [
       "'goodbye'"
      ]
     },
     "execution_count": 19,
     "metadata": {},
     "output_type": "execute_result"
    }
   ],
   "source": [
    "msg"
   ]
  },
  {
   "cell_type": "code",
   "execution_count": 20,
   "id": "e62d8bc0",
   "metadata": {},
   "outputs": [
    {
     "data": {
      "text/plain": [
       "[(1, 2), (1, 7), (2, 7), (3, 2), (3, 7)]"
      ]
     },
     "execution_count": 20,
     "metadata": {},
     "output_type": "execute_result"
    }
   ],
   "source": [
    "list_a = [1,2,3]\n",
    "list_b = [2,7]\n",
    "[(x,y) for x in list_a for y in list_b if x!=y]"
   ]
  },
  {
   "cell_type": "code",
   "execution_count": 21,
   "id": "a23d4553",
   "metadata": {},
   "outputs": [
    {
     "data": {
      "text/plain": [
       "(1, 2, 3)"
      ]
     },
     "execution_count": 21,
     "metadata": {},
     "output_type": "execute_result"
    }
   ],
   "source": [
    "tuple(list_a)"
   ]
  },
  {
   "cell_type": "code",
   "execution_count": 22,
   "id": "21ac65b6",
   "metadata": {},
   "outputs": [
    {
     "data": {
      "text/plain": [
       "[1, 3, 5, 7, 9, 11, 22, 56]"
      ]
     },
     "execution_count": 22,
     "metadata": {},
     "output_type": "execute_result"
    }
   ],
   "source": [
    "list_a = [1,3,5,7,7,9,11,11,11,22,56,3]\n",
    "list(set(list_a))"
   ]
  },
  {
   "cell_type": "code",
   "execution_count": 27,
   "id": "91be4f11",
   "metadata": {},
   "outputs": [
    {
     "data": {
      "text/plain": [
       "{1: 1, 3: 12, 5: 3, 7: 5, 9: 6, 11: 9, 22: 10, 56: 11}"
      ]
     },
     "execution_count": 27,
     "metadata": {},
     "output_type": "execute_result"
    }
   ],
   "source": [
    "{v:k for k,v in list(enumerate(list_a,start = 1))}"
   ]
  },
  {
   "cell_type": "code",
   "execution_count": 28,
   "id": "d3030c7d",
   "metadata": {},
   "outputs": [],
   "source": [
    "dic_a = {v:k for k,v in list(enumerate(list_a,start = 1))}"
   ]
  },
  {
   "cell_type": "code",
   "execution_count": 30,
   "id": "9eed7563",
   "metadata": {},
   "outputs": [
    {
     "data": {
      "text/plain": [
       "[1, 3, 5, 7, 9, 11, 22, 56]"
      ]
     },
     "execution_count": 30,
     "metadata": {},
     "output_type": "execute_result"
    }
   ],
   "source": [
    "[k for k in dic_a.keys()]"
   ]
  },
  {
   "cell_type": "code",
   "execution_count": 32,
   "id": "70c2e758",
   "metadata": {},
   "outputs": [],
   "source": [
    "dic_b = {}\n",
    "for key in list_a:\n",
    "    dic_b[key] = 1"
   ]
  },
  {
   "cell_type": "code",
   "execution_count": 33,
   "id": "4bd043ce",
   "metadata": {},
   "outputs": [
    {
     "data": {
      "text/plain": [
       "{1: 1, 3: 1, 5: 1, 7: 1, 9: 1, 11: 1, 22: 1, 56: 1}"
      ]
     },
     "execution_count": 33,
     "metadata": {},
     "output_type": "execute_result"
    }
   ],
   "source": [
    "dic_b"
   ]
  },
  {
   "cell_type": "code",
   "execution_count": 35,
   "id": "7acca367",
   "metadata": {},
   "outputs": [
    {
     "data": {
      "text/plain": [
       "dict_keys([1, 3, 5, 7, 9, 11, 22, 56])"
      ]
     },
     "execution_count": 35,
     "metadata": {},
     "output_type": "execute_result"
    }
   ],
   "source": [
    "dic_b.keys()"
   ]
  },
  {
   "cell_type": "code",
   "execution_count": 36,
   "id": "7ba46396",
   "metadata": {},
   "outputs": [],
   "source": [
    "names = ['Bob','JOHN','alice','bob','ALICE','J','Bob']"
   ]
  },
  {
   "cell_type": "code",
   "execution_count": 37,
   "id": "ea4e9c8e",
   "metadata": {},
   "outputs": [],
   "source": [
    "for name in names:\n",
    "    if len(name) < 2:\n",
    "        names.remove(name)"
   ]
  },
  {
   "cell_type": "code",
   "execution_count": 38,
   "id": "93d02d44",
   "metadata": {},
   "outputs": [
    {
     "data": {
      "text/plain": [
       "['Bob', 'JOHN', 'alice', 'bob', 'ALICE', 'Bob']"
      ]
     },
     "execution_count": 38,
     "metadata": {},
     "output_type": "execute_result"
    }
   ],
   "source": [
    "names"
   ]
  },
  {
   "cell_type": "code",
   "execution_count": 49,
   "id": "0e94601c",
   "metadata": {},
   "outputs": [],
   "source": [
    "new_names = []\n",
    "for name in names:\n",
    "    new_names.append(name.lower())"
   ]
  },
  {
   "cell_type": "code",
   "execution_count": 50,
   "id": "358cd1d2",
   "metadata": {},
   "outputs": [
    {
     "data": {
      "text/plain": [
       "['bob', 'john', 'alice', 'bob', 'alice', 'bob']"
      ]
     },
     "execution_count": 50,
     "metadata": {},
     "output_type": "execute_result"
    }
   ],
   "source": [
    "new_names"
   ]
  },
  {
   "cell_type": "code",
   "execution_count": 51,
   "id": "141ea840",
   "metadata": {},
   "outputs": [],
   "source": [
    "list_1=list(set(new_names))"
   ]
  },
  {
   "cell_type": "code",
   "execution_count": 52,
   "id": "263b864b",
   "metadata": {},
   "outputs": [],
   "source": [
    "list_2 = []\n",
    "for name in list_1:\n",
    "    list_2.append(name.title())"
   ]
  },
  {
   "cell_type": "code",
   "execution_count": 53,
   "id": "10a8df9f",
   "metadata": {},
   "outputs": [
    {
     "data": {
      "text/plain": [
       "['John', 'Bob', 'Alice']"
      ]
     },
     "execution_count": 53,
     "metadata": {},
     "output_type": "execute_result"
    }
   ],
   "source": [
    "list_2"
   ]
  },
  {
   "cell_type": "code",
   "execution_count": null,
   "id": "8e40ea25",
   "metadata": {},
   "outputs": [],
   "source": []
  }
 ],
 "metadata": {
  "kernelspec": {
   "display_name": "Python 3 (ipykernel)",
   "language": "python",
   "name": "python3"
  },
  "language_info": {
   "codemirror_mode": {
    "name": "ipython",
    "version": 3
   },
   "file_extension": ".py",
   "mimetype": "text/x-python",
   "name": "python",
   "nbconvert_exporter": "python",
   "pygments_lexer": "ipython3",
   "version": "3.11.5"
  }
 },
 "nbformat": 4,
 "nbformat_minor": 5
}
