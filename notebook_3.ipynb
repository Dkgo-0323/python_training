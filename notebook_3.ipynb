{
 "cells": [
  {
   "cell_type": "code",
   "execution_count": 2,
   "id": "c92c6656",
   "metadata": {},
   "outputs": [],
   "source": [
    "names = ['Bob','JOHN','alice','bob','ALICE','J','Bob']"
   ]
  },
  {
   "cell_type": "code",
   "execution_count": 3,
   "id": "f72f29c3",
   "metadata": {},
   "outputs": [],
   "source": [
    "new_names = {name[0].upper() + name[1:].lower() for name in names if len(name)>2}"
   ]
  },
  {
   "cell_type": "code",
   "execution_count": 4,
   "id": "26ed70f9",
   "metadata": {},
   "outputs": [
    {
     "data": {
      "text/plain": [
       "{'Alice', 'Bob', 'John'}"
      ]
     },
     "execution_count": 4,
     "metadata": {},
     "output_type": "execute_result"
    }
   ],
   "source": [
    "new_names"
   ]
  },
  {
   "cell_type": "code",
   "execution_count": 5,
   "id": "994ec930",
   "metadata": {},
   "outputs": [],
   "source": [
    "mcase = {'a':10,'b':34,'A':7,'Z':3}"
   ]
  },
  {
   "cell_type": "code",
   "execution_count": 6,
   "id": "0063fc66",
   "metadata": {},
   "outputs": [],
   "source": [
    "import numpy as np\n",
    "a = np.array((1,2,3,4,5))"
   ]
  },
  {
   "cell_type": "code",
   "execution_count": 7,
   "id": "95307b9d",
   "metadata": {},
   "outputs": [
    {
     "data": {
      "text/plain": [
       "array([1, 2, 3, 4, 5])"
      ]
     },
     "execution_count": 7,
     "metadata": {},
     "output_type": "execute_result"
    }
   ],
   "source": [
    "a"
   ]
  },
  {
   "cell_type": "code",
   "execution_count": 8,
   "id": "e4118e7d",
   "metadata": {},
   "outputs": [
    {
     "name": "stdout",
     "output_type": "stream",
     "text": [
      "[1 2 3 4 5]\n"
     ]
    }
   ],
   "source": [
    "print(a)"
   ]
  },
  {
   "cell_type": "code",
   "execution_count": 12,
   "id": "a49c4ff5",
   "metadata": {},
   "outputs": [],
   "source": [
    "from math import sin as f"
   ]
  },
  {
   "cell_type": "code",
   "execution_count": 14,
   "id": "b1c84d8f",
   "metadata": {},
   "outputs": [
    {
     "data": {
      "text/plain": [
       "0.1411200080598672"
      ]
     },
     "execution_count": 14,
     "metadata": {},
     "output_type": "execute_result"
    }
   ],
   "source": [
    "f(3)"
   ]
  },
  {
   "cell_type": "code",
   "execution_count": 6,
   "id": "ee901467",
   "metadata": {},
   "outputs": [
    {
     "name": "stdout",
     "output_type": "stream",
     "text": [
      "圆的面积为： 78.539815\n"
     ]
    }
   ],
   "source": [
    "from parameters import PI\n",
    "def calc_round_area(radius):\n",
    "        return PI * (radius**2)\n",
    "def run():\n",
    "    print(\"圆的面积为：\",calc_round_area(5))\n",
    "run()"
   ]
  },
  {
   "cell_type": "code",
   "execution_count": 7,
   "id": "6baf57a2",
   "metadata": {},
   "outputs": [
    {
     "data": {
      "text/plain": [
       "['c:\\\\python training',\n",
       " 'C:\\\\Users\\\\Dukai\\\\anaconda3\\\\python311.zip',\n",
       " 'C:\\\\Users\\\\Dukai\\\\anaconda3\\\\DLLs',\n",
       " 'C:\\\\Users\\\\Dukai\\\\anaconda3\\\\Lib',\n",
       " 'C:\\\\Users\\\\Dukai\\\\anaconda3',\n",
       " '',\n",
       " 'C:\\\\Users\\\\Dukai\\\\anaconda3\\\\Lib\\\\site-packages',\n",
       " 'C:\\\\Users\\\\Dukai\\\\anaconda3\\\\Lib\\\\site-packages\\\\win32',\n",
       " 'C:\\\\Users\\\\Dukai\\\\anaconda3\\\\Lib\\\\site-packages\\\\win32\\\\lib',\n",
       " 'C:\\\\Users\\\\Dukai\\\\anaconda3\\\\Lib\\\\site-packages\\\\Pythonwin']"
      ]
     },
     "execution_count": 7,
     "metadata": {},
     "output_type": "execute_result"
    }
   ],
   "source": [
    "import sys\n",
    "sys.path"
   ]
  },
  {
   "cell_type": "code",
   "execution_count": 8,
   "id": "c5a04e7a",
   "metadata": {},
   "outputs": [],
   "source": [
    "home_dir = \"C:\\C training\\parameters\"\n",
    "sys.path.append(home_dir)"
   ]
  },
  {
   "cell_type": "code",
   "execution_count": 23,
   "id": "6cc55746",
   "metadata": {},
   "outputs": [
    {
     "data": {
      "text/plain": [
       "['c:\\\\python training',\n",
       " 'C:\\\\Users\\\\Dukai\\\\anaconda3\\\\python311.zip',\n",
       " 'C:\\\\Users\\\\Dukai\\\\anaconda3\\\\DLLs',\n",
       " 'C:\\\\Users\\\\Dukai\\\\anaconda3\\\\Lib',\n",
       " 'C:\\\\Users\\\\Dukai\\\\anaconda3',\n",
       " '',\n",
       " 'C:\\\\Users\\\\Dukai\\\\anaconda3\\\\Lib\\\\site-packages',\n",
       " 'C:\\\\Users\\\\Dukai\\\\anaconda3\\\\Lib\\\\site-packages\\\\win32',\n",
       " 'C:\\\\Users\\\\Dukai\\\\anaconda3\\\\Lib\\\\site-packages\\\\win32\\\\lib',\n",
       " 'C:\\\\Users\\\\Dukai\\\\anaconda3\\\\Lib\\\\site-packages\\\\Pythonwin']"
      ]
     },
     "execution_count": 23,
     "metadata": {},
     "output_type": "execute_result"
    }
   ],
   "source": [
    "sys.path"
   ]
  },
  {
   "cell_type": "code",
   "execution_count": 24,
   "id": "1314a7e2",
   "metadata": {},
   "outputs": [
    {
     "ename": "ModuleNotFoundError",
     "evalue": "No module named 'test_package'",
     "output_type": "error",
     "traceback": [
      "\u001b[1;31m---------------------------------------------------------------------------\u001b[0m",
      "\u001b[1;31mModuleNotFoundError\u001b[0m                       Traceback (most recent call last)",
      "Cell \u001b[1;32mIn[24], line 1\u001b[0m\n\u001b[1;32m----> 1\u001b[0m \u001b[38;5;28;01mimport\u001b[39;00m \u001b[38;5;21;01mtest_package\u001b[39;00m\n",
      "\u001b[1;31mModuleNotFoundError\u001b[0m: No module named 'test_package'"
     ]
    }
   ],
   "source": [
    "import test_package"
   ]
  },
  {
   "cell_type": "code",
   "execution_count": 25,
   "id": "58ad6f98",
   "metadata": {},
   "outputs": [],
   "source": [
    "import test_package"
   ]
  },
  {
   "cell_type": "code",
   "execution_count": 26,
   "id": "132c0e08",
   "metadata": {},
   "outputs": [
    {
     "name": "stdout",
     "output_type": "stream",
     "text": [
      "圆的面积为： 78.539815\n"
     ]
    }
   ],
   "source": [
    "%run calc_round_area.py"
   ]
  },
  {
   "cell_type": "code",
   "execution_count": 31,
   "id": "d6079bd2",
   "metadata": {},
   "outputs": [
    {
     "ename": "NameError",
     "evalue": "name 'test' is not defined",
     "output_type": "error",
     "traceback": [
      "\u001b[1;31m---------------------------------------------------------------------------\u001b[0m",
      "\u001b[1;31mNameError\u001b[0m                                 Traceback (most recent call last)",
      "File \u001b[1;32mC:\\python training\\other.py:3\u001b[0m\n\u001b[0;32m      1\u001b[0m \u001b[38;5;28;01mfrom\u001b[39;00m \u001b[38;5;21;01mtest_package\u001b[39;00m \u001b[38;5;28;01mimport\u001b[39;00m\u001b[38;5;241m*\u001b[39m\n\u001b[1;32m----> 3\u001b[0m \u001b[38;5;28mprint\u001b[39m(parameters,test)\n",
      "\u001b[1;31mNameError\u001b[0m: name 'test' is not defined"
     ]
    }
   ],
   "source": [
    "%run other.py"
   ]
  },
  {
   "cell_type": "code",
   "execution_count": 32,
   "id": "a30bf8c5",
   "metadata": {},
   "outputs": [
    {
     "ename": "NameError",
     "evalue": "name 'test' is not defined",
     "output_type": "error",
     "traceback": [
      "\u001b[1;31m---------------------------------------------------------------------------\u001b[0m",
      "\u001b[1;31mNameError\u001b[0m                                 Traceback (most recent call last)",
      "File \u001b[1;32mC:\\python training\\other.py:3\u001b[0m\n\u001b[0;32m      1\u001b[0m \u001b[38;5;28;01mfrom\u001b[39;00m \u001b[38;5;21;01mtest_package\u001b[39;00m \u001b[38;5;28;01mimport\u001b[39;00m\u001b[38;5;241m*\u001b[39m\n\u001b[1;32m----> 3\u001b[0m \u001b[38;5;28mprint\u001b[39m(parameters,test,urllib)\n",
      "\u001b[1;31mNameError\u001b[0m: name 'test' is not defined"
     ]
    }
   ],
   "source": [
    "%run other.py"
   ]
  },
  {
   "cell_type": "code",
   "execution_count": null,
   "id": "100674d9",
   "metadata": {},
   "outputs": [],
   "source": [
    "from collections import namedtuple\n",
    "point = "
   ]
  }
 ],
 "metadata": {
  "kernelspec": {
   "display_name": "Python 3 (ipykernel)",
   "language": "python",
   "name": "python3"
  },
  "language_info": {
   "codemirror_mode": {
    "name": "ipython",
    "version": 3
   },
   "file_extension": ".py",
   "mimetype": "text/x-python",
   "name": "python",
   "nbconvert_exporter": "python",
   "pygments_lexer": "ipython3",
   "version": "3.11.5"
  }
 },
 "nbformat": 4,
 "nbformat_minor": 5
}
